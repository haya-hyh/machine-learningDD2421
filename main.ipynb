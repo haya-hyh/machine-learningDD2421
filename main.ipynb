{
 "cells": [
  {
   "cell_type": "code",
   "execution_count": 1,
   "metadata": {},
   "outputs": [],
   "source": [
    "import monkdata as m\n",
    "import dtree as dt"
   ]
  },
  {
   "cell_type": "code",
   "execution_count": 2,
   "metadata": {},
   "outputs": [
    {
     "name": "stdout",
     "output_type": "stream",
     "text": [
      "Entropy of MONK-1 Training Dataset: 1.0\n",
      "Entropy of MONK-2 Training Dataset: 0.957117428264771\n",
      "Entropy of MONK-3 Training Dataset: 0.9998061328047111\n"
     ]
    }
   ],
   "source": [
    "\n",
    "print(\"Entropy of MONK-1 Training Dataset:\", dt.entropy(m.monk1))\n",
    "print(\"Entropy of MONK-2 Training Dataset:\", dt.entropy(m.monk2))\n",
    "print(\"Entropy of MONK-3 Training Dataset:\", dt.entropy(m.monk3))"
   ]
  },
  {
   "cell_type": "code",
   "execution_count": 3,
   "metadata": {},
   "outputs": [
    {
     "name": "stdout",
     "output_type": "stream",
     "text": [
      "Dataset MONK-1:\n",
      "based on attribute-1:gain=0.07527255560831925\n",
      "based on attribute-2:gain=0.005838429962909286\n",
      "based on attribute-3:gain=0.00470756661729721\n",
      "based on attribute-4:gain=0.02631169650768228\n",
      "based on attribute-5:gain=0.28703074971578435\n",
      "based on attribute-6:gain=0.0007578557158638421\n",
      "Dataset MONK-2:\n",
      "based on attribute-1:gain=0.0037561773775118823\n",
      "based on attribute-2:gain=0.0024584986660830532\n",
      "based on attribute-3:gain=0.0010561477158920196\n",
      "based on attribute-4:gain=0.015664247292643818\n",
      "based on attribute-5:gain=0.01727717693791797\n",
      "based on attribute-6:gain=0.006247622236881467\n",
      "Dataset MONK-3:\n",
      "based on attribute-1:gain=0.007120868396071844\n",
      "based on attribute-2:gain=0.29373617350838865\n",
      "based on attribute-3:gain=0.0008311140445336207\n",
      "based on attribute-4:gain=0.002891817288654397\n",
      "based on attribute-5:gain=0.25591172461972755\n",
      "based on attribute-6:gain=0.007077026074097326\n"
     ]
    }
   ],
   "source": [
    "datasets = [m.monk1, m.monk2, m.monk3]\n",
    "attributes = m.attributes\n",
    "\n",
    "for i , dataset in enumerate(datasets):\n",
    "    print(f\"Dataset MONK-{i+1}:\")\n",
    "    for j,attribute in enumerate(attributes):\n",
    "        gain=dt.averageGain(dataset,attribute)\n",
    "        print(f\"based on attribute-{j+1}:gain={gain}\")"
   ]
  },
  {
   "cell_type": "code",
   "execution_count": 4,
   "metadata": {},
   "outputs": [
    {
     "name": "stdout",
     "output_type": "stream",
     "text": [
      "Subset for a5 = 1:\n",
      "  Attribute a1: Information Gain = 0.0000\n",
      "  Attribute a2: Information Gain = 0.0000\n",
      "  Attribute a3: Information Gain = 0.0000\n",
      "  Attribute a4: Information Gain = 0.0000\n",
      "  Attribute a6: Information Gain = 0.0000\n",
      "Subset for a5 = 2:\n",
      "  Attribute a1: Information Gain = 0.0402\n",
      "  Attribute a2: Information Gain = 0.0151\n",
      "  Attribute a3: Information Gain = 0.0373\n",
      "  Attribute a4: Information Gain = 0.0489\n",
      "  Attribute a6: Information Gain = 0.0258\n",
      "Subset for a5 = 3:\n",
      "  Attribute a1: Information Gain = 0.0331\n",
      "  Attribute a2: Information Gain = 0.0022\n",
      "  Attribute a3: Information Gain = 0.0180\n",
      "  Attribute a4: Information Gain = 0.0191\n",
      "  Attribute a6: Information Gain = 0.0451\n",
      "Subset for a5 = 4:\n",
      "  Attribute a1: Information Gain = 0.2063\n",
      "  Attribute a2: Information Gain = 0.0339\n",
      "  Attribute a3: Information Gain = 0.0259\n",
      "  Attribute a4: Information Gain = 0.0759\n",
      "  Attribute a6: Information Gain = 0.0033\n"
     ]
    }
   ],
   "source": [
    "subsets = [dt.select(m.monk1, m.attributes[4], value) for value in m.attributes[4].values]\n",
    "for i,subset in enumerate(subsets):\n",
    "    print(f\"Subset for a5 = {m.attributes[4].values[i]}:\")\n",
    "    for j, attribute in enumerate(m.attributes):\n",
    "        if attribute != m.attributes[4]: \n",
    "            gain = dt.averageGain(subset, attribute)\n",
    "            print(f\"  Attribute a{j+1}: Information Gain = {gain:.4f}\")"
   ]
  },
  {
   "cell_type": "code",
   "execution_count": 5,
   "metadata": {},
   "outputs": [],
   "source": [
    "subset_a5_2 = dt.select(m.monk1, m.attributes[4], 2)\n",
    "subsets_a5_2_a4 = [dt.select(subset_a5_2, m.attributes[3], value) for value in m.attributes[3].values]\n",
    "\n",
    "subset_a5_3 = dt.select(m.monk1, m.attributes[4], 3)\n",
    "subsets_a5_3_a6 = [dt.select(subset_a5_3, m.attributes[5], value) for value in m.attributes[5].values]\n",
    "\n",
    "subset_a5_4 = dt.select(m.monk1, m.attributes[4], 4)\n",
    "subsets_a5_4_a1 = [dt.select(subset_a5_4, m.attributes[0], value) for value in m.attributes[0].values]"
   ]
  },
  {
   "cell_type": "code",
   "execution_count": 10,
   "metadata": {},
   "outputs": [
    {
     "name": "stdout",
     "output_type": "stream",
     "text": [
      "Performance of Decision Trees:\n",
      "MONK-1: Train Accuracy = 0.8710, Test Accuracy = 0.7523\n",
      "MONK-2: Train Accuracy = 0.7692, Test Accuracy = 0.6319\n",
      "MONK-3: Train Accuracy = 0.9508, Test Accuracy = 0.9722\n"
     ]
    },
    {
     "ename": "SystemExit",
     "evalue": "0",
     "output_type": "error",
     "traceback": [
      "An exception has occurred, use %tb to see the full traceback.\n",
      "\u001b[1;31mSystemExit\u001b[0m\u001b[1;31m:\u001b[0m 0\n"
     ]
    }
   ],
   "source": [
    "\n",
    "tree_monk1 = dt.buildTree(m.monk1, m.attributes,3)\n",
    "tree_monk2 = dt.buildTree(m.monk2, m.attributes,3)\n",
    "tree_monk3 = dt.buildTree(m.monk3, m.attributes,3)\n",
    "\n",
    "print(\"Performance of Decision Trees:\")\n",
    "print(f\"MONK-1: Train Accuracy = {dt.check(tree_monk1, m.monk1):.4f}, Test Accuracy = {dt.check(tree_monk1, m.monk1test):.4f}\")\n",
    "print(f\"MONK-2: Train Accuracy = {dt.check(tree_monk2, m.monk2):.4f}, Test Accuracy = {dt.check(tree_monk2, m.monk2test):.4f}\")\n",
    "print(f\"MONK-3: Train Accuracy = {dt.check(tree_monk3, m.monk3):.4f}, Test Accuracy = {dt.check(tree_monk3, m.monk3test):.4f}\")\n",
    "\n",
    "import drawtree_qt5 as drt\n",
    "# drt.drawTree(tree_monk1)\n",
    "# drt.drawTree(tree_monk2)\n",
    "drt.drawTree(tree_monk3)"
   ]
  },
  {
   "cell_type": "code",
   "execution_count": null,
   "metadata": {},
   "outputs": [
    {
     "name": "stdout",
     "output_type": "stream",
     "text": [
      "Best pruned tree validation accuracy (k-fold): 0.8716666666666667\n"
     ]
    }
   ],
   "source": [
    "from sklearn.model_selection import KFold\n",
    "import numpy as np\n",
    "\n",
    "# kcross validation\n",
    "def kfold_pruning(data, attributes, k=5):\n",
    "    kf = KFold(n_splits=k, shuffle=True, random_state=42)\n",
    "    \n",
    "    original_tree = dt.buildTree(data, attributes,3)#maxstep=3\n",
    "    best_tree = original_tree\n",
    "    best_accuracy = 0\n",
    "\n",
    "    pruned_trees = dt.allPruned(original_tree)\n",
    "    \n",
    "    for pruned_tree in pruned_trees:\n",
    "        accuracies = []\n",
    "\n",
    "        for train_idx, val_idx in kf.split(data):\n",
    "            train_set = [data[i] for i in train_idx]\n",
    "            val_set = [data[i] for i in val_idx]\n",
    "\n",
    "            accuracy = dt.check(pruned_tree, val_set)\n",
    "            accuracies.append(accuracy)\n",
    "\n",
    "        mean_accuracy = np.mean(accuracies)\n",
    "\n",
    "        if mean_accuracy > best_accuracy:\n",
    "            best_tree = pruned_tree\n",
    "            best_accuracy = mean_accuracy\n",
    "\n",
    "    return best_tree, best_accuracy\n",
    "\n",
    "\n",
    "best_tree, best_accuracy = kfold_pruning(m.monk1, m.attributes, k=5)\n",
    "print(\"Best pruned tree validation accuracy (5-fold):\", best_accuracy)\n"
   ]
  },
  {
   "cell_type": "code",
   "execution_count": 7,
   "metadata": {},
   "outputs": [
    {
     "data": {
      "image/png": "[encoded data removed]",
      "text/plain": [
       "<Figure size 640x480 with 1 Axes>"
      ]
     },
     "metadata": {},
     "output_type": "display_data"
    }
   ],
   "source": [
    "import random\n",
    "import matplotlib.pyplot as plt \n",
    "def partition(data, fraction):\n",
    "    ldata = list(data)\n",
    "    random.shuffle(ldata)\n",
    "    breakPoint = int(len(ldata) * fraction)\n",
    "    return ldata[:breakPoint], ldata[breakPoint:]\n",
    "\n",
    "\n",
    "def prune_and_evaluate(dataset, testset, attributes, fraction, runs=10):\n",
    "    errors = []\n",
    "    for _ in range(runs):\n",
    "        train_set, val_set = partition(dataset, fraction)\n",
    "        tree = dt.buildTree(train_set, attributes,3)###########################################\n",
    "        pruned_trees = dt.allPruned(tree)\n",
    "    \n",
    "        best_tree = tree\n",
    "        best_accuracy = dt.check(tree, val_set)\n",
    "        for pruned_tree in pruned_trees:\n",
    "            accuracy = dt.check(pruned_tree, val_set)\n",
    "            if accuracy >= best_accuracy:\n",
    "                best_tree = pruned_tree\n",
    "                best_accuracy = accuracy\n",
    "        \n",
    "        test_error = 1 - dt.check(best_tree, testset)\n",
    "        errors.append(test_error)\n",
    "    \n",
    "    return np.mean(errors), np.std(errors)\n",
    "\n",
    "fractions = [0.3, 0.4, 0.5, 0.6, 0.7, 0.8]\n",
    "datasets = [(\"MONK-1\", m.monk1, m.monk1test), (\"MONK-3\", m.monk3, m.monk3test)]\n",
    "\n",
    "\n",
    "results= {}\n",
    "for name, dataset, testset in datasets:\n",
    "    means, stds = [], []\n",
    "    for fraction in fractions:\n",
    "        mean, std = prune_and_evaluate(dataset, testset, m.attributes, fraction)\n",
    "        means.append(mean)\n",
    "        stds.append(std)\n",
    "    results[name] = (means, stds)\n",
    "\n",
    "for name, (means, stds) in results.items():\n",
    "    plt.errorbar(fractions, means, yerr=stds, label=name, capsize=5)\n",
    "\n",
    "plt.xlabel(\"Fraction of Training Data\")\n",
    "plt.ylabel(\"Test Error\")\n",
    "plt.title(\"Effect of Pruning on Test Error\")\n",
    "plt.legend()\n",
    "plt.grid()\n",
    "plt.show()"
   ]
  }
 ],
 "metadata": {
  "kernelspec": {
   "display_name": "base",
   "language": "python",
   "name": "python3"
  },
  "language_info": {
   "codemirror_mode": {
    "name": "ipython",
    "version": 3
   },
   "file_extension": ".py",
   "mimetype": "text/x-python",
   "name": "python",
   "nbconvert_exporter": "python",
   "pygments_lexer": "ipython3",
   "version": "3.11.7"
  }
 },
 "nbformat": 4,
 "nbformat_minor": 2
}
